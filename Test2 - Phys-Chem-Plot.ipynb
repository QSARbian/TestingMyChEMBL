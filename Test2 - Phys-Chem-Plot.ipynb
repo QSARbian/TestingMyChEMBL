{
 "cells": [
  {
   "cell_type": "code",
   "execution_count": 1,
   "metadata": {
    "collapsed": false
   },
   "outputs": [
    {
     "name": "stdout",
     "output_type": "stream",
     "text": [
      "Populating the interactive namespace from numpy and matplotlib\n"
     ]
    },
    {
     "data": {
      "text/plain": [
       "<matplotlib.text.Text at 0x7fdaa993a850>"
      ]
     },
     "execution_count": 1,
     "metadata": {},
     "output_type": "execute_result"
    },
    {
     "data": {
      "image/png": "[encoded data removed]",
      "text/plain": [
       "<matplotlib.figure.Figure at 0x7fdab3c2c9d0>"
      ]
     },
     "metadata": {},
     "output_type": "display_data"
    }
   ],
   "source": [
    "from rdkit import rdBase\n",
    "from rdkit import RDConfig\n",
    "rdBase.rdkitVersion\n",
    "import os\n",
    "os.chdir(os.path.join(RDConfig.RDDocsDir,'Book'))\n",
    "%matplotlib inline\n",
    "\n",
    "from rdkit import Chem\n",
    "from rdkit.Chem.Draw import IPythonConsole\n",
    "from IPython.display import Image\n",
    "\n",
    "from rdkit.Chem import Descriptors, AllChem\n",
    "m1 = Chem.MolFromSmiles('CNC1C2C1CC2')\n",
    "m2 = Chem.MolFromSmiles('OC1C2C1CC2')\n",
    "m3 = Chem.MolFromSmiles('NC1C2C1CC2')\n",
    "m4 = Chem.MolFromSmiles('CC(=O)NC1C2C1CC2')\n",
    "\n",
    "tpsa1 = Descriptors.TPSA(m1)\n",
    "tpsa2 = Descriptors.TPSA(m2)\n",
    "tpsa3 = Descriptors.TPSA(m3)\n",
    "tpsa4 = Descriptors.TPSA(m4)\n",
    "\n",
    "%pylab inline\n",
    "\n",
    "import warnings\n",
    "warnings.filterwarnings('ignore') \n",
    "\n",
    "import numpy as np\n",
    "import os,sys\n",
    "import gzip\n",
    "import pylab as plt\n",
    "import pandas as pd\n",
    "\n",
    "X = np.array([1, 2, 3, 4])\n",
    "Y = np.array([tpsa1, tpsa2, tpsa3, tpsa4])\n",
    "\n",
    "#Simple scatter plot\n",
    "figure, (plt1) = pylab.subplots(1,1)\n",
    "figure.set_size_inches(8,8)\n",
    "\n",
    "#add the points from our array\n",
    "plt1.scatter(X,Y,c='black',label='test',zorder=2,s=50)\n",
    "\n",
    "#labels\n",
    "plt1.set_xlabel('Molecules')\n",
    "plt1.set_ylabel('TPSA')"
   ]
  },
  {
   "cell_type": "code",
   "execution_count": null,
   "metadata": {
    "collapsed": true
   },
   "outputs": [],
   "source": []
  }
 ],
 "metadata": {
  "kernelspec": {
   "display_name": "Python 2",
   "language": "python",
   "name": "python2"
  },
  "language_info": {
   "codemirror_mode": {
    "name": "ipython",
    "version": 2
   },
   "file_extension": ".py",
   "mimetype": "text/x-python",
   "name": "python",
   "nbconvert_exporter": "python",
   "pygments_lexer": "ipython2",
   "version": "2.7.6"
  }
 },
 "nbformat": 4,
 "nbformat_minor": 0
}
