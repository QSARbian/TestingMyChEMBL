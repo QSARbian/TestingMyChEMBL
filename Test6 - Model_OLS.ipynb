{
 "cells": [
  {
   "cell_type": "code",
   "execution_count": 1,
   "metadata": {
    "collapsed": false
   },
   "outputs": [
    {
     "name": "stdout",
     "output_type": "stream",
     "text": [
      "Ordinary Linear Regression Equation\n",
      "y =  0.0093775938795 x  + 0.402745921624\n",
      "R2 =  0.765296114812\n"
     ]
    },
    {
     "data": {
      "image/png": "[encoded data removed]",
      "text/plain": [
       "<matplotlib.figure.Figure at 0x7f0caf9ecb10>"
      ]
     },
     "metadata": {},
     "output_type": "display_data"
    }
   ],
   "source": [
    "# learn some chemistry\n",
    "from rdkit import rdBase\n",
    "from rdkit import RDConfig\n",
    "from rdkit import Chem\n",
    "from rdkit.Chem import Descriptors, AllChem\n",
    "\n",
    "# learn to draw etc.\n",
    "from rdkit.Chem.Draw import IPythonConsole\n",
    "from IPython.display import Image\n",
    "import matplotlib.pyplot as plt\n",
    "%matplotlib inline \n",
    "\n",
    "# learn some math etc.\n",
    "import pandas as pd\n",
    "import numpy as np\n",
    "from sklearn.linear_model import LinearRegression\n",
    "from sklearn.metrics import r2_score\n",
    "\n",
    "# reading data\n",
    "df = pd.read_csv ('/home/chembl/notebooks/FabiansTests/read_it.csv')\n",
    "smi = df['SMILES']\n",
    "resu = df['pEC50']\n",
    "res = map(float, resu)\n",
    "\n",
    "# calculate descriptors and develop new super-descriptor\n",
    "newdes_list = []\n",
    "for i in smi:\n",
    "    logp = Descriptors.MolLogP(Chem.MolFromSmiles(i))\n",
    "    tpsa = Descriptors.TPSA(Chem.MolFromSmiles(i))\n",
    "    newdes = (logp**2/tpsa*12)*100\n",
    "    newdes_list.append(newdes)\n",
    "\n",
    "# modelling data\n",
    "a = np.array(newdes_list)\n",
    "b = np.array(res)\n",
    "arr = np.array([(b), (a)])\n",
    "trarr = np.transpose(arr)\n",
    "x_train = trarr[:, np.newaxis, 1]\n",
    "y_train = trarr[:, np.newaxis, 0]\n",
    "\n",
    "# linear regression\n",
    "lr = LinearRegression()\n",
    "lr.fit(x_train, y_train)\n",
    "r2 = r2_score(y_train,lr.predict(x_train))\n",
    "print \"Ordinary Linear Regression Equation\"\n",
    "print (\"y = \"),(lr.coef_[0,0]),(\"x \"),(\"+\"),(lr.intercept_[0])\n",
    "print (\"R2 = \"),r2\n",
    "       \n",
    "# visualise model\n",
    "plt.scatter(x_train, y_train,  color='black')\n",
    "plt.plot(x_train, lr.predict(x_train), color='blue', linewidth=3)\n",
    "plt.xticks(())\n",
    "plt.yticks(())\n",
    "plt.show()\n"
   ]
  },
  {
   "cell_type": "code",
   "execution_count": null,
   "metadata": {
    "collapsed": true
   },
   "outputs": [],
   "source": []
  }
 ],
 "metadata": {
  "kernelspec": {
   "display_name": "Python 2",
   "language": "python",
   "name": "python2"
  },
  "language_info": {
   "codemirror_mode": {
    "name": "ipython",
    "version": 2
   },
   "file_extension": ".py",
   "mimetype": "text/x-python",
   "name": "python",
   "nbconvert_exporter": "python",
   "pygments_lexer": "ipython2",
   "version": "2.7.6"
  }
 },
 "nbformat": 4,
 "nbformat_minor": 0
}
