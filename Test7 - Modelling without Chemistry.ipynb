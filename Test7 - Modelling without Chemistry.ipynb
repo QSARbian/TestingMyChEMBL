{
 "cells": [
  {
   "cell_type": "code",
   "execution_count": 1,
   "metadata": {
    "collapsed": false,
    "scrolled": true
   },
   "outputs": [
    {
     "name": "stdout",
     "output_type": "stream",
     "text": [
      "Using matplotlib backend: agg\n",
      "Populating the interactive namespace from numpy and matplotlib\n",
      "\n",
      "Prediction for molecule with descriptors 5,5,5,5,5,5,5,5,5,5 is class [3]\n",
      "\n",
      "Training data vs. Prediction\n"
     ]
    },
    {
     "name": "stderr",
     "output_type": "stream",
     "text": [
      "/usr/local/lib/python2.7/dist-packages/IPython/kernel/__main__.py:18: DataConversionWarning: A column-vector y was passed when a 1d array was expected. Please change the shape of y to (n_samples, ), for example using ravel().\n"
     ]
    },
    {
     "data": {
      "image/png": "[encoded data removed]",
      "text/plain": [
       "<matplotlib.figure.Figure at 0x7fc08404db50>"
      ]
     },
     "metadata": {},
     "output_type": "display_data"
    }
   ],
   "source": [
    "%pylab\n",
    "%matplotlib inline\n",
    "\n",
    "import numpy as np\n",
    "import pandas as pd\n",
    "from IPython.display import Image\n",
    "import matplotlib.pyplot as plt\n",
    "from sklearn.ensemble import RandomForestClassifier as Classifier\n",
    "import sklearn.metrics\n",
    "\n",
    "# modelling data\n",
    "df = pd.read_csv ('/home/chembl/notebooks/FabiansTests/MalenNachZahlen.csv')\n",
    "x_train = df[range(1,11)]\n",
    "y_train = df[[11]]\n",
    "\n",
    "# random forest\n",
    "clf = Classifier(n_estimators=100, criterion='gini', max_depth=50)\n",
    "clf.fit(x_train, y_train)\n",
    "print ''\n",
    "print 'Prediction for molecule with descriptors 5,5,5,5,5,5,5,5,5,5 is class',clf.predict([5,5,5,5,5,5,5,5,5,5])\n",
    "\n",
    "# visualise model\n",
    "print ''\n",
    "print 'Training data vs. Prediction'\n",
    "plt.scatter(clf.predict(x_train), y_train,  color='black')\n",
    "plt.show()\n",
    "       "
   ]
  },
  {
   "cell_type": "code",
   "execution_count": null,
   "metadata": {
    "collapsed": true
   },
   "outputs": [],
   "source": []
  }
 ],
 "metadata": {
  "kernelspec": {
   "display_name": "Python 2",
   "language": "python",
   "name": "python2"
  },
  "language_info": {
   "codemirror_mode": {
    "name": "ipython",
    "version": 2
   },
   "file_extension": ".py",
   "mimetype": "text/x-python",
   "name": "python",
   "nbconvert_exporter": "python",
   "pygments_lexer": "ipython2",
   "version": "2.7.6"
  }
 },
 "nbformat": 4,
 "nbformat_minor": 0
}
