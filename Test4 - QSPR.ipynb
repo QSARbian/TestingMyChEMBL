{
 "cells": [
  {
   "cell_type": "code",
   "execution_count": 1,
   "metadata": {
    "collapsed": false
   },
   "outputs": [
    {
     "name": "stdout",
     "output_type": "stream",
     "text": [
      "Predictions for Kow:\n",
      "558.0\n",
      "131.0\n",
      "84.0\n",
      "2414.0\n",
      "153.0\n"
     ]
    }
   ],
   "source": [
    "# learn some chemistry\n",
    "from rdkit import rdBase\n",
    "from rdkit import RDConfig\n",
    "from rdkit import Chem\n",
    "from rdkit.Chem import Descriptors, AllChem\n",
    "\n",
    "# learn to draw etc.\n",
    "from rdkit.Chem.Draw import IPythonConsole\n",
    "from IPython.display import Image\n",
    "\n",
    "# reading data\n",
    "import pandas as pd\n",
    "ms = Chem.SmilesMolSupplier('/home/chembl/notebooks/read_it.smi')\n",
    "\n",
    "# get & show descriptors\n",
    "print ('Predictions for Kow:')\n",
    "for m in ms: \n",
    "    LogP = Descriptors.MolLogP(m)\n",
    "    print round(10**LogP)"
   ]
  },
  {
   "cell_type": "code",
   "execution_count": 5,
   "metadata": {
    "collapsed": false
   },
   "outputs": [
    {
     "data": {
      "text/plain": [
       "<rdkit.Chem.rdmolfiles.SmilesMolSupplier at 0x7f8ae474e788>"
      ]
     },
     "execution_count": 5,
     "metadata": {},
     "output_type": "execute_result"
    }
   ],
   "source": [
    "ms"
   ]
  },
  {
   "cell_type": "code",
   "execution_count": null,
   "metadata": {
    "collapsed": true
   },
   "outputs": [],
   "source": []
  }
 ],
 "metadata": {
  "kernelspec": {
   "display_name": "Python 2",
   "language": "python",
   "name": "python2"
  },
  "language_info": {
   "codemirror_mode": {
    "name": "ipython",
    "version": 2
   },
   "file_extension": ".py",
   "mimetype": "text/x-python",
   "name": "python",
   "nbconvert_exporter": "python",
   "pygments_lexer": "ipython2",
   "version": "2.7.6"
  }
 },
 "nbformat": 4,
 "nbformat_minor": 0
}
