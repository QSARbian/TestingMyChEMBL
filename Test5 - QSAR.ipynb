{
 "cells": [
  {
   "cell_type": "code",
   "execution_count": 1,
   "metadata": {
    "collapsed": false
   },
   "outputs": [
    {
     "name": "stdout",
     "output_type": "stream",
     "text": [
      "Ça sont les erreurs quadratiques de tous les prédictions.\n",
      "[ 0.04880434  4.97199565  0.32192985  1.49531809  3.60088794]\n"
     ]
    }
   ],
   "source": [
    "# learn some chemistry\n",
    "from rdkit import rdBase\n",
    "from rdkit import RDConfig\n",
    "from rdkit import Chem\n",
    "from rdkit.Chem import Descriptors, AllChem\n",
    "\n",
    "# learn to draw etc.\n",
    "from rdkit.Chem.Draw import IPythonConsole\n",
    "from IPython.display import Image\n",
    "\n",
    "# learn some math etc.\n",
    "import numpy\n",
    "\n",
    "# reading data\n",
    "import pandas\n",
    "df = pandas.read_csv ('/home/chembl/notebooks/FabiansTests/read_it.csv')\n",
    "smi = df['SMILES']\n",
    "resu = df['pEC50']\n",
    "res = map(float, resu)\n",
    "\n",
    "# calculate descriptors and predict\n",
    "pred_list = []\n",
    "for i in smi:\n",
    "    logp = Descriptors.MolLogP(Chem.MolFromSmiles(i))\n",
    "    tpsa = Descriptors.TPSA(Chem.MolFromSmiles(i))\n",
    "    pred = (logp**2/tpsa*12-1)\n",
    "    pred_list.append(pred)\n",
    "\n",
    "# squared error   \n",
    "resus = numpy.array(res)\n",
    "predictus = numpy.array(pred_list)\n",
    "se = (resus - predictus)**2\n",
    "print (\"Ça sont les erreurs quadratiques de tous les prédictions.\")\n",
    "print (se)"
   ]
  },
  {
   "cell_type": "code",
   "execution_count": null,
   "metadata": {
    "collapsed": true
   },
   "outputs": [],
   "source": []
  }
 ],
 "metadata": {
  "kernelspec": {
   "display_name": "Python 2",
   "language": "python",
   "name": "python2"
  },
  "language_info": {
   "codemirror_mode": {
    "name": "ipython",
    "version": 2
   },
   "file_extension": ".py",
   "mimetype": "text/x-python",
   "name": "python",
   "nbconvert_exporter": "python",
   "pygments_lexer": "ipython2",
   "version": "2.7.6"
  }
 },
 "nbformat": 4,
 "nbformat_minor": 0
}
