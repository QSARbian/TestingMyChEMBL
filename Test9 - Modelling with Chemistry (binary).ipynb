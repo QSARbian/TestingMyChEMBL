{
 "cells": [
  {
   "cell_type": "code",
   "execution_count": 1,
   "metadata": {
    "collapsed": false
   },
   "outputs": [
    {
     "name": "stdout",
     "output_type": "stream",
     "text": [
      "Using matplotlib backend: agg\n",
      "Populating the interactive namespace from numpy and matplotlib\n",
      "\n",
      "Prediction for molecule with descriptors 2.5 (Bala), 3 (HBA), 1 (HBD), 2.5 (LogP), 300 (MW) , 5 (RB) and 50 (TPSA) is class [2]\n",
      "\n",
      "Confusion Matrix:\n",
      "[[1032   24]\n",
      " [  75  962]]\n",
      "\n",
      "Matthews Correlation Coefficient:\n",
      "0.906427425576\n",
      "\n",
      "Training data vs. Prediction\n"
     ]
    },
    {
     "data": {
      "image/png": "[encoded data removed]",
      "text/plain": [
       "<matplotlib.figure.Figure at 0x7fc4040d2550>"
      ]
     },
     "metadata": {},
     "output_type": "display_data"
    }
   ],
   "source": [
    "%pylab\n",
    "%matplotlib inline\n",
    "\n",
    "import numpy as np\n",
    "import pandas as pd\n",
    "from IPython.display import Image\n",
    "import matplotlib.pyplot as plt\n",
    "from sklearn.ensemble import RandomForestClassifier as Classifier\n",
    "from sklearn.metrics import confusion_matrix\n",
    "from sklearn.metrics import matthews_corrcoef\n",
    "from rdkit import rdBase\n",
    "from rdkit import RDConfig\n",
    "from rdkit import Chem\n",
    "from rdkit.Chem import PandasTools\n",
    "from rdkit.Chem import Descriptors, AllChem\n",
    "from rdkit.Chem.Draw import IPythonConsole\n",
    "from rdkit.ML.Descriptors.MoleculeDescriptors import MolecularDescriptorCalculator\n",
    "from rdkit.Chem.Descriptors import descList\n",
    "\n",
    "\n",
    "# arranging data\n",
    "df = pd.read_csv ('/home/chembl/notebooks/FabiansTests/bioactivity_5-ht2b_binary-stratified.csv')\n",
    "smi = df['canSMILES_desalted']\n",
    "ms = map(str, smi)\n",
    "aclass = df['ActivityClass']\n",
    "clas = map(int, aclass)  \n",
    "\n",
    "\n",
    "# calculate descriptors \n",
    "logp_list = []\n",
    "for i in ms:\n",
    "    logp = Descriptors.MolLogP(Chem.MolFromSmiles(i))\n",
    "    logp_list.append(logp) \n",
    "tpsa_list = []\n",
    "for i in ms:\n",
    "    tpsa = Descriptors.TPSA(Chem.MolFromSmiles(i))\n",
    "    tpsa_list.append(tpsa)\n",
    "mw_list = []\n",
    "for i in ms:\n",
    "    mw = Descriptors.MolWt(Chem.MolFromSmiles(i))\n",
    "    mw_list.append(mw)\n",
    "rb_list = []\n",
    "for i in ms:\n",
    "    rb = Descriptors.NumRotatableBonds(Chem.MolFromSmiles(i))\n",
    "    rb_list.append(rb)\n",
    "hbd_list = []\n",
    "for i in ms:\n",
    "    hbd = Descriptors.NumHDonors(Chem.MolFromSmiles(i))\n",
    "    hbd_list.append(hbd)\n",
    "hba_list = []\n",
    "for i in ms:\n",
    "    hba = Descriptors.NumHAcceptors(Chem.MolFromSmiles(i))\n",
    "    hba_list.append(hba)\n",
    "bala_list = []\n",
    "for i in ms:\n",
    "    bala = Descriptors.BalabanJ(Chem.MolFromSmiles(i))\n",
    "    bala_list.append(bala)\n",
    "    \n",
    "des = pd.DataFrame({'bala_list':bala_list,'hba_list':hba_list,'hbd_list':hbd_list,'logp_list':logp_list,'mw_list':mw_list,'rb_list':rb_list,'tpsa_list':tpsa_list})\n",
    "\n",
    "# modelling data\n",
    "x_train = des\n",
    "y_train = clas\n",
    "\n",
    "# random forest\n",
    "clf = Classifier(n_estimators=200, criterion='gini', max_depth=10)\n",
    "clf.fit(x_train, y_train)\n",
    "print ''\n",
    "print 'Prediction for molecule with descriptors 2.5 (Bala), 3 (HBA), 1 (HBD), 2.5 (LogP), 300 (MW) , 5 (RB) and 50 (TPSA) is class',clf.predict([2.5,3,1,2.5,300,5,50])\n",
    "\n",
    "# visualise model\n",
    "cm = confusion_matrix(y_train, clf.predict(x_train))\n",
    "mcc = matthews_corrcoef(y_train, clf.predict(x_train))\n",
    "print ''\n",
    "print'Confusion Matrix:'\n",
    "print(cm)\n",
    "print ''\n",
    "print'Matthews Correlation Coefficient:'\n",
    "print(mcc)\n",
    "print ''\n",
    "print 'Training data vs. Prediction'\n",
    "plt.scatter(clf.predict(x_train), y_train,  color='blue')\n",
    "plt.show()\n"
   ]
  },
  {
   "cell_type": "code",
   "execution_count": null,
   "metadata": {
    "collapsed": true
   },
   "outputs": [],
   "source": []
  }
 ],
 "metadata": {
  "kernelspec": {
   "display_name": "Python 2",
   "language": "python",
   "name": "python2"
  },
  "language_info": {
   "codemirror_mode": {
    "name": "ipython",
    "version": 2
   },
   "file_extension": ".py",
   "mimetype": "text/x-python",
   "name": "python",
   "nbconvert_exporter": "python",
   "pygments_lexer": "ipython2",
   "version": "2.7.6"
  }
 },
 "nbformat": 4,
 "nbformat_minor": 0
}
